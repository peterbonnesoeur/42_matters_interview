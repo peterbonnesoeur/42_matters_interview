{
 "cells": [
  {
   "cell_type": "markdown",
   "metadata": {},
   "source": [
    "# Movies view estimations in Python\n",
    "\n",
    "The goal of this task is to implement a model in python to estimate the number of views a movie has.\n",
    "\n",
    "\n",
    "**Disclaimer**: The goal of this task (at least for me), was not really in the implementation but for you to see how I would work to resolve this kind of problems. This is by no means a finished and penultimate solution but the fruit of my work.\n",
    "\n",
    "I hope that this will satisfy you nonetheless."
   ]
  },
  {
   "cell_type": "markdown",
   "metadata": {},
   "source": [
    "## 1- Data Loading"
   ]
  },
  {
   "cell_type": "code",
   "execution_count": 1,
   "metadata": {},
   "outputs": [],
   "source": [
    "import pandas as pd\n",
    "from sklearn.model_selection import train_test_split\n",
    "from sklearn.model_selection import KFold\n",
    "from sklearn.model_selection import cross_val_score\n",
    "from sklearn.linear_model import LinearRegression\n",
    "from sklearn.tree import DecisionTreeRegressor\n",
    "\n",
    "import matplotlib.pyplot as plt\n",
    "import numpy as np\n",
    "\n",
    "import warnings\n",
    "warnings.filterwarnings('ignore')"
   ]
  },
  {
   "cell_type": "code",
   "execution_count": 2,
   "metadata": {},
   "outputs": [],
   "source": [
    "INPUT_FILE = \"../data/top-250-movie-ratings.csv\"\n",
    "OUTPUT_FILE = \"../output/moviesViewEstimations.csv\"\n",
    "\n",
    "RANDOM_STATE = 100"
   ]
  },
  {
   "cell_type": "code",
   "execution_count": 3,
   "metadata": {},
   "outputs": [],
   "source": [
    "data = pd.read_csv(INPUT_FILE)"
   ]
  },
  {
   "cell_type": "code",
   "execution_count": 4,
   "metadata": {},
   "outputs": [
    {
     "data": {
      "text/html": [
       "<div>\n",
       "<style scoped>\n",
       "    .dataframe tbody tr th:only-of-type {\n",
       "        vertical-align: middle;\n",
       "    }\n",
       "\n",
       "    .dataframe tbody tr th {\n",
       "        vertical-align: top;\n",
       "    }\n",
       "\n",
       "    .dataframe thead th {\n",
       "        text-align: right;\n",
       "    }\n",
       "</style>\n",
       "<table border=\"1\" class=\"dataframe\">\n",
       "  <thead>\n",
       "    <tr style=\"text-align: right;\">\n",
       "      <th></th>\n",
       "      <th>Unnamed: 0</th>\n",
       "      <th>Title</th>\n",
       "      <th>Year</th>\n",
       "      <th>Rating</th>\n",
       "      <th>Rating Count</th>\n",
       "    </tr>\n",
       "  </thead>\n",
       "  <tbody>\n",
       "    <tr>\n",
       "      <th>0</th>\n",
       "      <td>tt0111161</td>\n",
       "      <td>The Shawshank Redemption</td>\n",
       "      <td>1994</td>\n",
       "      <td>9.2</td>\n",
       "      <td>2,089,382</td>\n",
       "    </tr>\n",
       "    <tr>\n",
       "      <th>1</th>\n",
       "      <td>tt0068646</td>\n",
       "      <td>The Godfather</td>\n",
       "      <td>1972</td>\n",
       "      <td>9.2</td>\n",
       "      <td>1,433,884</td>\n",
       "    </tr>\n",
       "    <tr>\n",
       "      <th>2</th>\n",
       "      <td>tt0071562</td>\n",
       "      <td>The Godfather: Part II</td>\n",
       "      <td>1974</td>\n",
       "      <td>9.0</td>\n",
       "      <td>995,997</td>\n",
       "    </tr>\n",
       "    <tr>\n",
       "      <th>3</th>\n",
       "      <td>tt0468569</td>\n",
       "      <td>The Dark Knight</td>\n",
       "      <td>2008</td>\n",
       "      <td>9.0</td>\n",
       "      <td>2,055,819</td>\n",
       "    </tr>\n",
       "    <tr>\n",
       "      <th>4</th>\n",
       "      <td>tt0050083</td>\n",
       "      <td>12 Angry Men</td>\n",
       "      <td>1957</td>\n",
       "      <td>8.9</td>\n",
       "      <td>591,688</td>\n",
       "    </tr>\n",
       "  </tbody>\n",
       "</table>\n",
       "</div>"
      ],
      "text/plain": [
       "  Unnamed: 0                     Title  Year  Rating Rating Count\n",
       "0  tt0111161  The Shawshank Redemption  1994     9.2    2,089,382\n",
       "1  tt0068646             The Godfather  1972     9.2    1,433,884\n",
       "2  tt0071562    The Godfather: Part II  1974     9.0      995,997\n",
       "3  tt0468569           The Dark Knight  2008     9.0    2,055,819\n",
       "4  tt0050083              12 Angry Men  1957     8.9      591,688"
      ]
     },
     "execution_count": 4,
     "metadata": {},
     "output_type": "execute_result"
    }
   ],
   "source": [
    "data.head()"
   ]
  },
  {
   "cell_type": "code",
   "execution_count": 5,
   "metadata": {},
   "outputs": [
    {
     "name": "stdout",
     "output_type": "stream",
     "text": [
      "<class 'pandas.core.frame.DataFrame'>\n",
      "RangeIndex: 250 entries, 0 to 249\n",
      "Data columns (total 5 columns):\n",
      " #   Column        Non-Null Count  Dtype  \n",
      "---  ------        --------------  -----  \n",
      " 0   Unnamed: 0    250 non-null    object \n",
      " 1   Title         250 non-null    object \n",
      " 2   Year          250 non-null    int64  \n",
      " 3   Rating        250 non-null    float64\n",
      " 4   Rating Count  250 non-null    object \n",
      "dtypes: float64(1), int64(1), object(3)\n",
      "memory usage: 9.9+ KB\n"
     ]
    }
   ],
   "source": [
    "#Lets take a look at the types of the columns in the dataframe.\n",
    "data.info()"
   ]
  },
  {
   "cell_type": "code",
   "execution_count": 6,
   "metadata": {},
   "outputs": [
    {
     "name": "stdout",
     "output_type": "stream",
     "text": [
      "<class 'pandas.core.frame.DataFrame'>\n",
      "RangeIndex: 250 entries, 0 to 249\n",
      "Data columns (total 5 columns):\n",
      " #   Column        Non-Null Count  Dtype  \n",
      "---  ------        --------------  -----  \n",
      " 0   Unnamed: 0    250 non-null    object \n",
      " 1   Title         250 non-null    object \n",
      " 2   Year          250 non-null    int64  \n",
      " 3   Rating        250 non-null    float64\n",
      " 4   Rating Count  250 non-null    int64  \n",
      "dtypes: float64(1), int64(2), object(2)\n",
      "memory usage: 9.9+ KB\n"
     ]
    }
   ],
   "source": [
    "#We can see that Raiting count is a string, we will to convert it as a int for the rest of the exercise.\n",
    "\n",
    "if data['Rating Count'].dtype == 'object':\n",
    "    data['Rating Count'] = data['Rating Count'].str.replace('[^\\d.]', '').astype(int)\n",
    "\n",
    "data.info()"
   ]
  },
  {
   "cell_type": "code",
   "execution_count": 7,
   "metadata": {},
   "outputs": [
    {
     "data": {
      "text/html": [
       "<div>\n",
       "<style scoped>\n",
       "    .dataframe tbody tr th:only-of-type {\n",
       "        vertical-align: middle;\n",
       "    }\n",
       "\n",
       "    .dataframe tbody tr th {\n",
       "        vertical-align: top;\n",
       "    }\n",
       "\n",
       "    .dataframe thead th {\n",
       "        text-align: right;\n",
       "    }\n",
       "</style>\n",
       "<table border=\"1\" class=\"dataframe\">\n",
       "  <thead>\n",
       "    <tr style=\"text-align: right;\">\n",
       "      <th></th>\n",
       "      <th>Unnamed: 0</th>\n",
       "      <th>Title</th>\n",
       "      <th>Year</th>\n",
       "      <th>Rating</th>\n",
       "      <th>Rating Count</th>\n",
       "    </tr>\n",
       "  </thead>\n",
       "  <tbody>\n",
       "    <tr>\n",
       "      <th>0</th>\n",
       "      <td>tt0111161</td>\n",
       "      <td>The Shawshank Redemption</td>\n",
       "      <td>1994</td>\n",
       "      <td>9.2</td>\n",
       "      <td>2089382</td>\n",
       "    </tr>\n",
       "    <tr>\n",
       "      <th>1</th>\n",
       "      <td>tt0068646</td>\n",
       "      <td>The Godfather</td>\n",
       "      <td>1972</td>\n",
       "      <td>9.2</td>\n",
       "      <td>1433884</td>\n",
       "    </tr>\n",
       "    <tr>\n",
       "      <th>2</th>\n",
       "      <td>tt0071562</td>\n",
       "      <td>The Godfather: Part II</td>\n",
       "      <td>1974</td>\n",
       "      <td>9.0</td>\n",
       "      <td>995997</td>\n",
       "    </tr>\n",
       "    <tr>\n",
       "      <th>3</th>\n",
       "      <td>tt0468569</td>\n",
       "      <td>The Dark Knight</td>\n",
       "      <td>2008</td>\n",
       "      <td>9.0</td>\n",
       "      <td>2055819</td>\n",
       "    </tr>\n",
       "    <tr>\n",
       "      <th>4</th>\n",
       "      <td>tt0050083</td>\n",
       "      <td>12 Angry Men</td>\n",
       "      <td>1957</td>\n",
       "      <td>8.9</td>\n",
       "      <td>591688</td>\n",
       "    </tr>\n",
       "  </tbody>\n",
       "</table>\n",
       "</div>"
      ],
      "text/plain": [
       "  Unnamed: 0                     Title  Year  Rating  Rating Count\n",
       "0  tt0111161  The Shawshank Redemption  1994     9.2       2089382\n",
       "1  tt0068646             The Godfather  1972     9.2       1433884\n",
       "2  tt0071562    The Godfather: Part II  1974     9.0        995997\n",
       "3  tt0468569           The Dark Knight  2008     9.0       2055819\n",
       "4  tt0050083              12 Angry Men  1957     8.9        591688"
      ]
     },
     "execution_count": 7,
     "metadata": {},
     "output_type": "execute_result"
    }
   ],
   "source": [
    "# removing the col Unnamed: 0 as it is not needed\n",
    "data.drop(columns=['Unnamed: 0'], axis = 1)\n",
    "data.head()"
   ]
  },
  {
   "cell_type": "markdown",
   "metadata": {},
   "source": [
    "# 2 - Adding the limited view data"
   ]
  },
  {
   "cell_type": "code",
   "execution_count": 8,
   "metadata": {},
   "outputs": [],
   "source": [
    "film_names = [\"Forrest Gump\", \"The Usual Suspects\", \"Rear Window\", \"North by Northwest\", \"The Secret in Their Eyes\", \"Spotlight\"]\n",
    "film_views = [10000000, 7500000, 6000000, 4000000, 3000000, 1000000]\n",
    "\n",
    "for i in range(len(film_names)):\n",
    "    id = data['Title'] == film_names[i]\n",
    "    data.loc[id,\"views\"] = film_views[i]"
   ]
  },
  {
   "cell_type": "code",
   "execution_count": 9,
   "metadata": {},
   "outputs": [
    {
     "data": {
      "text/html": [
       "<div>\n",
       "<style scoped>\n",
       "    .dataframe tbody tr th:only-of-type {\n",
       "        vertical-align: middle;\n",
       "    }\n",
       "\n",
       "    .dataframe tbody tr th {\n",
       "        vertical-align: top;\n",
       "    }\n",
       "\n",
       "    .dataframe thead th {\n",
       "        text-align: right;\n",
       "    }\n",
       "</style>\n",
       "<table border=\"1\" class=\"dataframe\">\n",
       "  <thead>\n",
       "    <tr style=\"text-align: right;\">\n",
       "      <th></th>\n",
       "      <th>Unnamed: 0</th>\n",
       "      <th>Title</th>\n",
       "      <th>Year</th>\n",
       "      <th>Rating</th>\n",
       "      <th>Rating Count</th>\n",
       "      <th>views</th>\n",
       "    </tr>\n",
       "  </thead>\n",
       "  <tbody>\n",
       "    <tr>\n",
       "      <th>11</th>\n",
       "      <td>tt0109830</td>\n",
       "      <td>Forrest Gump</td>\n",
       "      <td>1994</td>\n",
       "      <td>8.7</td>\n",
       "      <td>1602217</td>\n",
       "      <td>10000000.0</td>\n",
       "    </tr>\n",
       "    <tr>\n",
       "      <th>28</th>\n",
       "      <td>tt0114814</td>\n",
       "      <td>The Usual Suspects</td>\n",
       "      <td>1995</td>\n",
       "      <td>8.5</td>\n",
       "      <td>903320</td>\n",
       "      <td>7500000.0</td>\n",
       "    </tr>\n",
       "    <tr>\n",
       "      <th>45</th>\n",
       "      <td>tt0047396</td>\n",
       "      <td>Rear Window</td>\n",
       "      <td>1954</td>\n",
       "      <td>8.5</td>\n",
       "      <td>397045</td>\n",
       "      <td>6000000.0</td>\n",
       "    </tr>\n",
       "    <tr>\n",
       "      <th>76</th>\n",
       "      <td>tt0053125</td>\n",
       "      <td>North by Northwest</td>\n",
       "      <td>1959</td>\n",
       "      <td>8.3</td>\n",
       "      <td>270627</td>\n",
       "      <td>4000000.0</td>\n",
       "    </tr>\n",
       "    <tr>\n",
       "      <th>138</th>\n",
       "      <td>tt1305806</td>\n",
       "      <td>The Secret in Their Eyes</td>\n",
       "      <td>2009</td>\n",
       "      <td>8.2</td>\n",
       "      <td>172373</td>\n",
       "      <td>3000000.0</td>\n",
       "    </tr>\n",
       "    <tr>\n",
       "      <th>212</th>\n",
       "      <td>tt1895587</td>\n",
       "      <td>Spotlight</td>\n",
       "      <td>2015</td>\n",
       "      <td>8.1</td>\n",
       "      <td>362975</td>\n",
       "      <td>1000000.0</td>\n",
       "    </tr>\n",
       "  </tbody>\n",
       "</table>\n",
       "</div>"
      ],
      "text/plain": [
       "    Unnamed: 0                     Title  Year  Rating  Rating Count  \\\n",
       "11   tt0109830              Forrest Gump  1994     8.7       1602217   \n",
       "28   tt0114814        The Usual Suspects  1995     8.5        903320   \n",
       "45   tt0047396               Rear Window  1954     8.5        397045   \n",
       "76   tt0053125        North by Northwest  1959     8.3        270627   \n",
       "138  tt1305806  The Secret in Their Eyes  2009     8.2        172373   \n",
       "212  tt1895587                 Spotlight  2015     8.1        362975   \n",
       "\n",
       "          views  \n",
       "11   10000000.0  \n",
       "28    7500000.0  \n",
       "45    6000000.0  \n",
       "76    4000000.0  \n",
       "138   3000000.0  \n",
       "212   1000000.0  "
      ]
     },
     "execution_count": 9,
     "metadata": {},
     "output_type": "execute_result"
    }
   ],
   "source": [
    "data[data['Title'].isin(film_names)]"
   ]
  },
  {
   "cell_type": "code",
   "execution_count": 10,
   "metadata": {},
   "outputs": [
    {
     "data": {
      "text/plain": [
       "244"
      ]
     },
     "execution_count": 10,
     "metadata": {},
     "output_type": "execute_result"
    }
   ],
   "source": [
    "data['views'].isnull().sum()"
   ]
  },
  {
   "cell_type": "code",
   "execution_count": 11,
   "metadata": {},
   "outputs": [
    {
     "name": "stdout",
     "output_type": "stream",
     "text": [
      "Percentage of annotated data: 2.4 %\n"
     ]
    }
   ],
   "source": [
    "print(\"Percentage of annotated data: {:.1f} %\".format((len(data) - data['views'].isnull().sum())/len(data)*100))"
   ]
  },
  {
   "cell_type": "markdown",
   "metadata": {},
   "source": [
    "## 3 - Discussion"
   ]
  },
  {
   "cell_type": "markdown",
   "metadata": {},
   "source": [
    "The goal of this exercise it to find some kind of basic model to estimate the number of view of the films based on a subset of the views data.\n",
    "\n",
    "Based on the data that we have, only 2.4% of the dataset is annotated. Also, as an analyst, one could expect that other factors not depicted outside of this table could heavily influence the number of views.\n",
    "\n",
    "\n",
    "We will thus make the following assumptions:\n",
    "\n",
    "- The data that we have in this document will be considered as hard to obtain. Hence, we will not try to augmentate the data by crossing it with an external database such as [imdb](https://www.imdb.com/interfaces/) or the [MovieLens](https://www.kaggle.com/datasets/danielgrijalvas/movies) one.\n",
    "\n",
    "- Given the small amount of annotated data, we will not try to use any NLP techniques on the names of the films to extract some metadata out of it. Indeed, some names like 'spotlight' can be considered in many movies genre (ex: \"spotlight, a star is born\" or \"spotlight, the political life of J.F Kennedy\"). Furthermore, even though we are able to extract some meaningful metdata out of those names, with only 6 samples, we are quite assured that this procedure will only add some noise to our model.\n",
    "\n",
    "Hence, for our approach, we will not try to use a complex model here but rather a simple one. The main objective would be to find a technique that will not overfit on our small dataset.\n"
   ]
  },
  {
   "cell_type": "markdown",
   "metadata": {},
   "source": [
    "## 4 - Data analysis:"
   ]
  },
  {
   "cell_type": "markdown",
   "metadata": {},
   "source": [
    "In this section, our aim is to take a look at the distribution of the data as a whole as well as the distribution of our annotated data.\n",
    "The objective of this step is to see if the annotated data that we have has a similar distribution as the rest of the dataset."
   ]
  },
  {
   "cell_type": "code",
   "execution_count": 12,
   "metadata": {},
   "outputs": [
    {
     "data": {
      "image/png": "[encoded data removed]",
      "text/plain": [
       "<Figure size 1512x504 with 3 Axes>"
      ]
     },
     "metadata": {
      "needs_background": "light"
     },
     "output_type": "display_data"
    }
   ],
   "source": [
    "indexes = [\n",
    "    ('Year', 'release year'),\n",
    "    ('Rating', 'rating'),\n",
    "    ('Rating Count', 'rating count')\n",
    "]\n",
    "\n",
    "fig, axes = plt.subplots(1, len(indexes), figsize = (7*len(indexes), 7))\n",
    "\n",
    "for (feature_name, title_name), ax in zip(indexes, axes):\n",
    "    \n",
    "    ax.hist(data[feature_name], label = \"Raw data\")\n",
    "    ax.hist(data[data['Title'].isin(film_names)][feature_name], label = \"Annotated data\")\n",
    "    ax.set_xlabel(title_name)\n",
    "    ax.set_ylabel(\"Number of occurences\")\n",
    "\n",
    "    ax.set_title(\"Distribution of the {} of films in the dataset\".format(title_name))\n",
    "    ax.legend()\n",
    "\n",
    "plt.show()"
   ]
  },
  {
   "cell_type": "markdown",
   "metadata": {},
   "source": [
    "From this short study, we can see that our data is not represneting only a subset of our dataset.\n",
    "\n",
    "One thing to note nonetheless is the fact that the rating of our dataset is absolutely not even and restrained to a really short winow between 8/10 and 9.2/10 (which is a typical problem of many review systems)."
   ]
  },
  {
   "cell_type": "markdown",
   "metadata": {},
   "source": [
    "## 5 - Processing"
   ]
  },
  {
   "cell_type": "markdown",
   "metadata": {},
   "source": [
    "### A - Linear regression"
   ]
  },
  {
   "cell_type": "markdown",
   "metadata": {},
   "source": [
    "The most simple model there is would be a linear regression. It will allow us to generalize the different results and to give an understandable guess."
   ]
  },
  {
   "cell_type": "code",
   "execution_count": 13,
   "metadata": {},
   "outputs": [],
   "source": [
    "# choose the input and outputs of the model\n",
    "input_features = ['Year', 'Rating', 'Rating Count']\n",
    "output_feature = ['views']\n",
    "\n",
    "X = data[data['Title'].isin(film_names)][input_features]\n",
    "\n",
    "y = data[data['Title'].isin(film_names)][output_feature]"
   ]
  },
  {
   "cell_type": "code",
   "execution_count": 14,
   "metadata": {},
   "outputs": [
    {
     "name": "stdout",
     "output_type": "stream",
     "text": [
      "Regression score 0.8968682458178701\n",
      "Regression coefficients [[2.06269142e+03 8.28438753e+06 2.79577236e+00]]\n"
     ]
    }
   ],
   "source": [
    "# Split data into training and test sets\n",
    "X_train, X_test, y_train, y_test = train_test_split(X, y, test_size = 0.25, random_state = 101)\n",
    "\n",
    "# Train the model\n",
    "reg = LinearRegression().fit(X_train, y_train)\n",
    "\n",
    "print(\"Regression score\", reg.score(X_test,y_test))\n",
    "print(\"Regression coefficients\", reg.coef_)\n"
   ]
  },
  {
   "cell_type": "markdown",
   "metadata": {},
   "source": [
    "This is a pretty high regression score. Our model must be quite amazing right ?\n",
    "\n",
    "Well, maybe not, lets use cross validation to have some indications about the variablity of our predictions."
   ]
  },
  {
   "cell_type": "code",
   "execution_count": 15,
   "metadata": {},
   "outputs": [],
   "source": [
    "lm = LinearRegression()\n",
    "\n",
    "# We are here using our whole dataset to train the model, the goal is \n",
    "# just to see if the variance in the prediction is significant\n",
    "\n",
    "#Given that we have only 6 films, we can make 3 splits  of 2 film each.\n",
    "# The model will be trained on 4 films and tested on 2 films.\n",
    "\n",
    "# create a KFold object with 5 splits \n",
    "folds = KFold(n_splits = 3, shuffle = True, random_state = RANDOM_STATE)\n",
    "scores = cross_val_score(lm, X, y, scoring ='r2', cv=folds)"
   ]
  },
  {
   "cell_type": "code",
   "execution_count": 16,
   "metadata": {},
   "outputs": [
    {
     "name": "stdout",
     "output_type": "stream",
     "text": [
      "Linear regression scores :  [-0.81162326 -8.93798441  0.89686825]\n"
     ]
    },
    {
     "data": {
      "image/png": "[encoded data removed]",
      "text/plain": [
       "<Figure size 432x288 with 1 Axes>"
      ]
     },
     "metadata": {
      "needs_background": "light"
     },
     "output_type": "display_data"
    }
   ],
   "source": [
    "print(\"Linear regression scores : \", scores)\n",
    "fig1, ax1 = plt.subplots()\n",
    "ax1.set_title('Linear regression scores - BoxPlot')\n",
    "ax1.boxplot(scores)\n",
    "plt.show()"
   ]
  },
  {
   "cell_type": "markdown",
   "metadata": {},
   "source": [
    "Given that the optimal score of the r2 metric is one, we can see that the model is actually performing quite badly here, with even a negative score. We might be overfitting our data."
   ]
  },
  {
   "cell_type": "markdown",
   "metadata": {},
   "source": [
    "However, is the model really to blame entirely there ?\n",
    "\n",
    "In this case, a negative r2 score means that the mean of the y in the validation set are actually a better predictor of the values of y than our model. But in our case, we have onlyy two values in the validation set. Hence, it would suffice that 'The Secret in Their Eyes' with 3000000 views and 'Spotlight' with 1000000 views (the 2 films witht the least amount) would probably be better than our model since it never saw values that low.\n"
   ]
  },
  {
   "cell_type": "code",
   "execution_count": 17,
   "metadata": {},
   "outputs": [],
   "source": [
    "#Visualization function(s)\n",
    "\n",
    "def visualize_results(data: pd.DataFrame):\n",
    "    fig, axes = plt.subplots(1, 2, figsize = (7*2, 7))\n",
    "    ax1 = axes[0]\n",
    "    ax2 = axes[1]\n",
    "\n",
    "    views_ground_truth, ratings_ground_truth, indices_ground_truth = [], [], []\n",
    "\n",
    "    for i, (view, rating) in enumerate(zip(data['views'], data['Rating'])):\n",
    "        if ~np.isnan(view):\n",
    "            views_ground_truth.append(view)\n",
    "            ratings_ground_truth.append(rating)\n",
    "            indices_ground_truth.append(i)\n",
    "\n",
    "\n",
    "\n",
    "    ax1.scatter([x for x in range(len(data))], data['predicted_views'], label = \"Predicted views\")\n",
    "    ax1.scatter(indices_ground_truth, views_ground_truth, label = \"Ground truth\")\n",
    "    ax1.set_xlabel(\"Index\")\n",
    "    ax1.set_ylabel(\"Views\")\n",
    "    ax1.set_title(\"Predicted views vs ground truth\")\n",
    "    ax1.legend()\n",
    "\n",
    "    ax2.scatter([x for x in range(len(data))], data['Rating'], label = \"Rating\")\n",
    "    ax2.scatter(indices_ground_truth, ratings_ground_truth, label = \"Rating of the annotated data\")\n",
    "    ax1.set_xlabel(\"Index\")\n",
    "    ax1.set_ylabel(\"Rating\")\n",
    "    ax1.set_title(\"Rating vs annotated ratings\")\n",
    "    ax2.legend()\n",
    "\n",
    "    plt.show()"
   ]
  },
  {
   "cell_type": "markdown",
   "metadata": {},
   "source": [
    "In order to see if our model would still be somehow of some reasonnable quality, we will process our dataset with this model and visualize the results.\n",
    "The objective here is to see if, despite being simplistic, our implementation will not provide aberrantly high or low values."
   ]
  },
  {
   "cell_type": "code",
   "execution_count": 18,
   "metadata": {},
   "outputs": [],
   "source": [
    "linear_model = LinearRegression().fit(X, y)\n",
    "data[\"predicted_views\"] = linear_model.predict(data[input_features])"
   ]
  },
  {
   "cell_type": "code",
   "execution_count": 19,
   "metadata": {},
   "outputs": [
    {
     "data": {
      "image/png": "[encoded data removed]",
      "text/plain": [
       "<Figure size 1008x504 with 2 Axes>"
      ]
     },
     "metadata": {
      "needs_background": "light"
     },
     "output_type": "display_data"
    }
   ],
   "source": [
    "visualize_results(data)"
   ]
  },
  {
   "cell_type": "code",
   "execution_count": 20,
   "metadata": {},
   "outputs": [
    {
     "data": {
      "text/plain": [
       "34"
      ]
     },
     "execution_count": 20,
     "metadata": {},
     "output_type": "execute_result"
    }
   ],
   "source": [
    "#Check the case where we have a negative prediction count\n",
    "sum(data['predicted_views'] < 0)"
   ]
  },
  {
   "cell_type": "markdown",
   "metadata": {},
   "source": [
    "Sadly, we can see that our model does not map the reality as it is displaying some negative values for the views.\n",
    "\n",
    "This can of course not be right and this seems to be highly correlated by the distribution of the grades.\n",
    "\n",
    "In fact, in the figure above, we can see that the stratification of the views is quite remarkably  similar to the ones of the grades.\n",
    "The issue is that we do not have any annotated data with the lowest grade. Hence, in this case, the linear regression just assumes the same step size jump between each specific grade.\n",
    "\n",
    "This is not a good assumption as if we decide to extend this dataset with much higher or much lower grade, the model will not be able to predict the views realistically speaking.\n",
    "\n",
    "____\n",
    "\n",
    "Thus, we will try a rule based approach instead of a linear regression. The objective here is to see if learned rules, despite being simplistic, will not provide aberrantly high or low values."
   ]
  },
  {
   "cell_type": "markdown",
   "metadata": {},
   "source": [
    "## B - Decision Tree Regressor"
   ]
  },
  {
   "cell_type": "code",
   "execution_count": 21,
   "metadata": {},
   "outputs": [
    {
     "name": "stdout",
     "output_type": "stream",
     "text": [
      "Score regr_1: -0.20\n"
     ]
    }
   ],
   "source": [
    "regr = DecisionTreeRegressor(max_depth = 3, random_state = RANDOM_STATE)\n",
    "\n",
    "regr.fit(X_train, y_train)\n",
    "\n",
    "print(\"Score regr_1: {:.2f}\".format(regr.score(X_test, y_test)))"
   ]
  },
  {
   "cell_type": "markdown",
   "metadata": {},
   "source": [
    "We can see that once we reach a depth of That might not seem very good at first but lets try to see with our crossvalidation test. "
   ]
  },
  {
   "cell_type": "code",
   "execution_count": 22,
   "metadata": {},
   "outputs": [
    {
     "name": "stdout",
     "output_type": "stream",
     "text": [
      "Linear regression scores :  [-0.81162326 -8.93798441  0.89686825]\n"
     ]
    },
    {
     "data": {
      "image/png": "[encoded data removed]",
      "text/plain": [
       "<Figure size 432x288 with 1 Axes>"
      ]
     },
     "metadata": {
      "needs_background": "light"
     },
     "output_type": "display_data"
    }
   ],
   "source": [
    "# create a KFold object with 5 splits \n",
    "scores_regr = cross_val_score(regr, X, y, scoring ='r2', cv=folds)\n",
    "print(\"Linear regression scores : \", scores)\n",
    "fig1, ax1 = plt.subplots()\n",
    "ax1.set_title('Linear regression scores - BoxPlot')\n",
    "ax1.boxplot(scores_regr, labels = [\"Depth = 3\"])\n",
    "plt.show()"
   ]
  },
  {
   "cell_type": "markdown",
   "metadata": {},
   "source": [
    "This might look even worse than the previous model, but lets nonetheless see how it performs intuitively."
   ]
  },
  {
   "cell_type": "code",
   "execution_count": 23,
   "metadata": {},
   "outputs": [],
   "source": [
    "regr_model = regr.fit(X, y)\n",
    "data[\"predicted_views\"] = regr_model.predict(data[input_features])"
   ]
  },
  {
   "cell_type": "code",
   "execution_count": 24,
   "metadata": {},
   "outputs": [
    {
     "data": {
      "image/png": "[encoded data removed]",
      "text/plain": [
       "<Figure size 1008x504 with 2 Axes>"
      ]
     },
     "metadata": {
      "needs_background": "light"
     },
     "output_type": "display_data"
    }
   ],
   "source": [
    "visualize_results(data)"
   ]
  },
  {
   "cell_type": "markdown",
   "metadata": {},
   "source": [
    "With this, we can see the main difference between the linear regression and the decision tree. The decision tree keeps the values into boundaries and the linear regression doesn't.\n",
    "\n",
    "Both behavior can be desired but in the case where both \"tails\" of our destribution of data are not properly mapped by the real values, using a rule based model could be preferable."
   ]
  },
  {
   "cell_type": "markdown",
   "metadata": {},
   "source": [
    "## C - Why not mix it up?"
   ]
  },
  {
   "cell_type": "markdown",
   "metadata": {},
   "source": [
    "So far, we tried two models: a linear regression and a decision tree regressor. Both models being fairly simple.\n",
    "In this step, I will not try to find a new model for our model but we will list the pro and cons of each one of them:\n",
    "\n",
    "**Linear Regression**\n",
    "\n",
    "Pros:\n",
    "    \n",
    "    - Great generalization\n",
    "\n",
    "Cons:\n",
    "\n",
    "    - Tends to lead to aberrant values for extreme inputs due to the lack of data\n",
    "\n",
    "**Decision Tree Regressor**\n",
    "\n",
    "Pros:\n",
    "\n",
    "    - Rule-based approach, keep the data within boundaries of what is known -> Great for a first iteration as we do not get aberrant values.\n",
    "\n",
    "Cons:\n",
    "\n",
    "    - Not great generalization and uniform result"
   ]
  },
  {
   "cell_type": "markdown",
   "metadata": {},
   "source": [
    "An other solution in our research for a representation would actually be to just use a part of the results of both models. This approach might not be a regorous one but it might be able to provide a smooth distribution of the results while removing the issue that we had with the linear regression."
   ]
  },
  {
   "cell_type": "code",
   "execution_count": 25,
   "metadata": {},
   "outputs": [],
   "source": [
    "regr_model = regr.fit(X, y)\n",
    "data[\"predicted_views\"] = 1/4 *regr_model.predict(data[input_features]) + 3/4 * linear_model.predict(data[input_features])"
   ]
  },
  {
   "cell_type": "code",
   "execution_count": 26,
   "metadata": {},
   "outputs": [
    {
     "data": {
      "image/png": "[encoded data removed]",
      "text/plain": [
       "<Figure size 1008x504 with 2 Axes>"
      ]
     },
     "metadata": {
      "needs_background": "light"
     },
     "output_type": "display_data"
    }
   ],
   "source": [
    "visualize_results(data)"
   ]
  },
  {
   "cell_type": "markdown",
   "metadata": {},
   "source": [
    "Despite not being completely rigorous, this model might extend better than the ones that we have seen so far. Furthermore, it is still able to generalize the view count outside of the rule-based system.\n",
    "\n",
    "In our quest of a simple heuristic, I would personnaly choose this one. However, its lack of mathmatical reasoning might not be pleasing for many people. I nonetheless believe that data and code is law. Without much data, complex models are rendered useless on those task and this kind of reasoning can give us a starting point to iterate upon."
   ]
  },
  {
   "cell_type": "markdown",
   "metadata": {},
   "source": [
    "## 6 - Saving the results"
   ]
  },
  {
   "cell_type": "code",
   "execution_count": 27,
   "metadata": {},
   "outputs": [],
   "source": [
    "data.to_csv(OUTPUT_FILE)"
   ]
  }
 ],
 "metadata": {
  "kernelspec": {
   "display_name": "Python 3 (ipykernel)",
   "language": "python",
   "name": "python3"
  },
  "language_info": {
   "codemirror_mode": {
    "name": "ipython",
    "version": 3
   },
   "file_extension": ".py",
   "mimetype": "text/x-python",
   "name": "python",
   "nbconvert_exporter": "python",
   "pygments_lexer": "ipython3",
   "version": "3.10.1"
  },
  "vscode": {
   "interpreter": {
    "hash": "be236f6551083e545995b9420d83b8bf0c3ec6a648510c99313a7e47e0411ba7"
   }
  }
 },
 "nbformat": 4,
 "nbformat_minor": 2
}
